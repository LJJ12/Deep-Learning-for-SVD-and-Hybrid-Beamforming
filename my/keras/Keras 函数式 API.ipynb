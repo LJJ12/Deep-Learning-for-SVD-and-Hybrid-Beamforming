{
 "cells": [
  {
   "cell_type": "markdown",
   "metadata": {},
   "source": [
    "Keras 函数式 API 是定义复杂模型（如多输出模型、有向无环图或具有共享层的模型）的方法。"
   ]
  },
  {
   "cell_type": "markdown",
   "metadata": {},
   "source": [
    "### 例一：全连接网络"
   ]
  },
  {
   "cell_type": "markdown",
   "metadata": {},
   "source": [
    "Sequential 模型可能是实现这种网络的一个更好选择，但这个例子能够有助于开发的时候理解。\n",
    "1. 网络层的实例是可调用的，它以张量为参数，并且返回一个张量\n",
    "2. 输入和输出均为张量，它们都可以用来定义一个模型（Model）\n",
    "3. 这样的模型同 Keras 的 Sequential 模型一样，都可以被训练"
   ]
  },
  {
   "cell_type": "code",
   "execution_count": null,
   "metadata": {},
   "outputs": [],
   "source": [
    "import keras\n",
    "from keras.layers import Input, Dense\n",
    "from keras.models import Model"
   ]
  },
  {
   "cell_type": "code",
   "execution_count": null,
   "metadata": {},
   "outputs": [],
   "source": [
    "# 定义一个张量\n",
    "inputs = Input(shape=(512,))"
   ]
  },
  {
   "cell_type": "code",
   "execution_count": null,
   "metadata": {},
   "outputs": [],
   "source": [
    "# 层的实例是可调用的，它以张量为参数，并且返回一个张量\n",
    "output_1 = Dense(64,activation='relu')(inputs)\n",
    "output_2 = Dense(64,activation='relu')(output_1)\n",
    "predictions = Dense(1,activation = 'softmax')(output_2)"
   ]
  },
  {
   "cell_type": "code",
   "execution_count": null,
   "metadata": {},
   "outputs": [],
   "source": [
    "# 创建一个包含输入层和三个全连接层的模型\n",
    "model = Model(inputs=inputs,outputs=predictions)\n",
    "model.compile(optimizer='rmsprop',\n",
    "             loss='sparse_categorical_crossentropy',\n",
    "             metrics=['accuracy'])"
   ]
  },
  {
   "cell_type": "markdown",
   "metadata": {},
   "source": [
    "数据测试了一下还有问题"
   ]
  },
  {
   "cell_type": "code",
   "execution_count": 28,
   "metadata": {},
   "outputs": [],
   "source": [
    "# # 生成虚拟数据\n",
    "# import numpy as np\n",
    "# # 生成100行50列的随机浮点数，浮点数范围：（0，1）\n",
    "# data = np.random.random((1000,512))\n",
    "# print(data)\n",
    "# # 1000行一列的随机整数，从[0,2)中随机。\n",
    "# labels = np.random.randint(2,size=(1000,1))\n",
    "# # 开始训练\n",
    "# model.fit(data,labels)"
   ]
  },
  {
   "cell_type": "markdown",
   "metadata": {},
   "source": [
    "### 所有的模型都可调用，就像网络层一样\n",
    "利用函数式 API，可以轻易地重用训练好的模型：可以将任何模型看作是一个层，然后通过传递一个张量来调用它。注意，在调用模型时，不仅重用模型的结构，还重用了它的权重。"
   ]
  },
  {
   "cell_type": "code",
   "execution_count": 12,
   "metadata": {},
   "outputs": [],
   "source": [
    "x = Input(shape=(784,))\n",
    "# 这是可行的，并且返回上面定义的 10-way softmax。\n",
    "y = model(x)"
   ]
  },
  {
   "cell_type": "markdown",
   "metadata": {},
   "source": [
    "这种方式能允许我们快速创建可以处理序列输入的模型。只需一行代码，你就将图像分类模型转换为视频分类模型。"
   ]
  },
  {
   "cell_type": "code",
   "execution_count": 30,
   "metadata": {},
   "outputs": [],
   "source": [
    "from keras.layers import TimeDistributed\n",
    "\n",
    "# 输入张量是 20 个时间步的序列，\n",
    "# 每一个时间为一个 784 维的向量\n",
    "input_sequences = Input(shape=(20, 784))"
   ]
  },
  {
   "cell_type": "code",
   "execution_count": null,
   "metadata": {},
   "outputs": [],
   "source": [
    "# 这部分将我们之前定义的模型应用于输入序列中的每个时间步。\n",
    "# 之前定义的模型的输出是一个 10-way softmax，\n",
    "# 因而下面的层的输出将是维度为 10 的 20 个向量的序列。\n",
    "# processed_sequences = TimeDistributed(model)(input_sequences)"
   ]
  },
  {
   "cell_type": "markdown",
   "metadata": {},
   "source": [
    "### 多输入多输出模型\n",
    "以下是函数式 API 的一个很好的例子：具有多个输入和输出的模型。函数式 API 使处理大量交织的数据流变得容易。"
   ]
  },
  {
   "cell_type": "markdown",
   "metadata": {},
   "source": [
    "![title](img/multi-input-multi-output-graph.png)"
   ]
  },
  {
   "cell_type": "markdown",
   "metadata": {},
   "source": [
    "### 函数式 API 来实现\n",
    "主要输入接收新闻标题本身，即一个整数序列（每个整数编码一个词）。\n",
    "这些整数在 1 到 10,000 之间（10,000 个词的词汇表），且序列长度为 100 个词"
   ]
  },
  {
   "cell_type": "code",
   "execution_count": null,
   "metadata": {},
   "outputs": [],
   "source": [
    "from keras.layers import Input, Embedding, LSTM, Dense\n",
    "from keras.models import Model\n",
    "import numpy as np\n",
    "np.random.seed(0)  # 设置随机种子，用于复现结果"
   ]
  },
  {
   "cell_type": "code",
   "execution_count": null,
   "metadata": {},
   "outputs": [],
   "source": [
    "# 标题输入：接收一个含有 100 个整数的序列，每个整数在 1 到 10000 之间。\n",
    "# 注意我们可以通过传递一个 \"name\" 参数来命名任何层。\n",
    "main_input = Input(shape=(100,),dtype='int32',name='main_input')\n",
    "\n",
    "# Embedding 层将输入序列编码为一个稠密向量的序列，\n",
    "# 每个向量维度为 512。\n",
    "x = Embedding(output_dim=512, input_dim=10000, input_length=100)(main_input)\n",
    "\n",
    "# LSTM 层把向量序列转换成单个向量，\n",
    "# 它包含整个序列的上下文信息\n",
    "lstm_out = LSTM(32)(x)"
   ]
  },
  {
   "cell_type": "code",
   "execution_count": null,
   "metadata": {},
   "outputs": [],
   "source": [
    "# 插入辅助损失，使得即使在模型主损失很高的情况下，LSTM 层和 Embedding 层都能被平稳地训练。\n",
    "auxiliary_output = Dense(1, activation='sigmoid', name='aux_output')(lstm_out)"
   ]
  },
  {
   "cell_type": "markdown",
   "metadata": {},
   "source": [
    "svd论文中也使用了输出连接的语法\n",
    "![title](img/multi-input-multi-output-graph.png)"
   ]
  },
  {
   "cell_type": "code",
   "execution_count": null,
   "metadata": {},
   "outputs": [],
   "source": [
    "# 将辅助输入数据与 LSTM 层的输出连接起来，输入到模型中\n",
    "auxiliary_input = Input(shape=(5,), name='aux_input')\n",
    "x = keras.layers.concatenate([lstm_out, auxiliary_input])\n",
    "\n",
    "# 堆叠多个全连接网络层\n",
    "x = Dense(64, activation='relu')(x)\n",
    "x = Dense(64, activation='relu')(x)\n",
    "x = Dense(64, activation='relu')(x)\n",
    "\n",
    "# 最后添加主要的逻辑回归层\n",
    "main_output = Dense(1, activation='sigmoid', name='main_output')(x)"
   ]
  },
  {
   "cell_type": "markdown",
   "metadata": {},
   "source": [
    "#### 然后定义一个具有两个输入和两个输出的模型"
   ]
  },
  {
   "cell_type": "code",
   "execution_count": null,
   "metadata": {},
   "outputs": [],
   "source": [
    "model = Model(inputs=[main_input,auxiliary_input],outputs=[main_output,auxiliary_output])"
   ]
  },
  {
   "cell_type": "markdown",
   "metadata": {},
   "source": [
    "编译模型，并给辅助损失分配一个 0.2 的权重。如果要为不同的输出指定不同的 loss_weights 或 loss，可以使用列表或字典。 在这里，我们给 loss 参数传递单个损失函数，这个损失将用于所有的输出"
   ]
  },
  {
   "cell_type": "code",
   "execution_count": null,
   "metadata": {},
   "outputs": [],
   "source": [
    "model.compile(optimizer='rmsprop', loss='binary_crossentropy',\n",
    "              loss_weights=[1., 0.2])"
   ]
  },
  {
   "cell_type": "code",
   "execution_count": null,
   "metadata": {},
   "outputs": [],
   "source": [
    "# 通过传递输入数组和目标数组的列表来训练模型\n",
    "headline_data = np.round(np.abs(np.random.rand(12, 100) * 100))\n",
    "additional_data = np.random.randn(12, 5)\n",
    "headline_labels = np.random.randn(12, 1)\n",
    "additional_labels = np.random.randn(12, 1)\n",
    "model.fit([headline_data, additional_data], [headline_labels, additional_labels],\n",
    "          epochs=50, batch_size=32)"
   ]
  },
  {
   "cell_type": "code",
   "execution_count": null,
   "metadata": {},
   "outputs": [],
   "source": [
    "# 由于输入和输出均被命名了（在定义时传递了一个 name 参数），我们也可以通过以下方式编译模型：\n",
    "# model.compile(optimizer='rmsprop',\n",
    "#               loss={'main_output': 'binary_crossentropy', 'aux_output': 'binary_crossentropy'},\n",
    "#               loss_weights={'main_output': 1., 'aux_output': 0.2})\n",
    "\n",
    "# # 然后使用以下方式训练：\n",
    "# model.fit({'main_input': headline_data, 'aux_input': additional_data},\n",
    "#           {'main_output': headline_labels, 'aux_output': additional_labels},\n",
    "#           epochs=50, batch_size=32)"
   ]
  },
  {
   "cell_type": "code",
   "execution_count": null,
   "metadata": {},
   "outputs": [],
   "source": [
    "# 若使用此模型做推理，可以\n",
    "model.predict({'main_input': headline_data, 'aux_input': additional_data})\n",
    "# 或者\n",
    "# pred = model.predict([headline_data, additional_data])"
   ]
  },
  {
   "cell_type": "markdown",
   "metadata": {},
   "source": [
    "### 共享网络层"
   ]
  },
  {
   "cell_type": "code",
   "execution_count": null,
   "metadata": {},
   "outputs": [],
   "source": [
    "import keras\n",
    "from keras.layers import Input, LSTM, Dense\n",
    "from keras.models import Model\n",
    "\n",
    "tweet_a = Input(shape=(280, 256))\n",
    "tweet_b = Input(shape=(280, 256))"
   ]
  },
  {
   "cell_type": "markdown",
   "metadata": {},
   "source": [
    "要在不同的输入上共享同一个层，只需实例化该层一次，然后根据需要传入你想要的输入即可"
   ]
  },
  {
   "cell_type": "code",
   "execution_count": null,
   "metadata": {},
   "outputs": [],
   "source": [
    "# 这一层可以输入一个矩阵，并返回一个 64 维的向量 该层将被重用\n",
    "shared_lstm = LSTM(64)"
   ]
  },
  {
   "cell_type": "code",
   "execution_count": null,
   "metadata": {},
   "outputs": [],
   "source": [
    "# 当我们重用相同的图层实例多次，图层的权重也会被重用 (它其实就是同一层)\n",
    "encoded_a = shared_lstm(tweet_a)\n",
    "encoded_b = shared_lstm(tweet_b)\n",
    "\n",
    "# 然后再连接两个向量：\n",
    "merged_vector = keras.layers.concatenate([encoded_a, encoded_b], axis=-1)\n"
   ]
  },
  {
   "cell_type": "code",
   "execution_count": null,
   "metadata": {},
   "outputs": [],
   "source": [
    "# 再在上面添加一个逻辑回归层\n",
    "predictions = Dense(1, activation='sigmoid')(merged_vector)\n",
    "\n",
    "# 定义一个连接推特输入和预测的可训练的模型\n",
    "model = Model(inputs=[tweet_a, tweet_b], outputs=predictions)"
   ]
  },
  {
   "cell_type": "code",
   "execution_count": null,
   "metadata": {},
   "outputs": [],
   "source": [
    "model.compile(optimizer='rmsprop',\n",
    "              loss='binary_crossentropy',\n",
    "              metrics=['accuracy'])"
   ]
  },
  {
   "cell_type": "code",
   "execution_count": null,
   "metadata": {},
   "outputs": [],
   "source": [
    "model.fit([data_a, data_b], \n",
    "          labels, \n",
    "          epochs=10)"
   ]
  },
  {
   "cell_type": "markdown",
   "metadata": {},
   "source": [
    "### 层「节点」的概念"
   ]
  },
  {
   "cell_type": "markdown",
   "metadata": {},
   "source": [
    "在某个输入上调用一个层时，都将创建一个新的张量（层的输出），并且为该层添加一个「节点」，将输入张量连接到输出张量。当多次调用同一个图层时，该图层将拥有多个节点索引 (0, 1, 2...)。\n",
    "\n",
    "在之前版本的 Keras 中，可以通过 layer.get_output() 来获得层实例的输出张量，或者通过 layer.output_shape 来获取其输出形状。现在你依然可以这么做（除了 get_output() 已经被 output 属性替代）。但是如果一个层与多个输入连接"
   ]
  },
  {
   "cell_type": "code",
   "execution_count": null,
   "metadata": {},
   "outputs": [],
   "source": [
    "a = Input(shape=(280, 256))\n",
    "\n",
    "lstm = LSTM(32)\n",
    "encoded_a = lstm(a)\n",
    "\n",
    "assert lstm.output == encoded_a"
   ]
  },
  {
   "cell_type": "code",
   "execution_count": null,
   "metadata": {},
   "outputs": [],
   "source": [
    "#  出现错误\n",
    "a = Input(shape=(280, 256))\n",
    "b = Input(shape=(280, 256))\n",
    "\n",
    "lstm = LSTM(32)\n",
    "encoded_a = lstm(a)\n",
    "encoded_b = lstm(b)\n",
    "\n",
    "lstm.get_output()\n",
    "\n",
    "# >> AttributeError: Layer lstm_1 has multiple inbound nodes,\n",
    "# hence the notion of \"layer output\" is ill-defined.\n",
    "# Use `get_output_at(node_index)` instead."
   ]
  },
  {
   "cell_type": "code",
   "execution_count": null,
   "metadata": {},
   "outputs": [],
   "source": [
    "# 解决办法\n",
    "assert lstm.get_output_at(0) == encoded_a\n",
    "assert lstm.get_output_at(1) == encoded_b"
   ]
  },
  {
   "cell_type": "markdown",
   "metadata": {},
   "source": [
    "#### input_shape 和 output_shape 这两个属性也是如此：只要该层只有一个节点，或者只要所有节点具有相同的输入/输出尺寸，那么「层输出/输入尺寸」的概念就被很好地定义，且将由 layer.output_shape / layer.input_shape 返回。但是比如说，如果将一个 Conv2D 层先应用于尺寸为 (32，32，3) 的输入，再应用于尺寸为 (64, 64, 3) 的输入，那么这个层就会有多个输入/输出尺寸，你将不得不通过指定它们所属节点的索引来获取它们·"
   ]
  },
  {
   "cell_type": "code",
   "execution_count": null,
   "metadata": {},
   "outputs": [],
   "source": [
    "a = Input(shape=(32, 32, 3))\n",
    "b = Input(shape=(64, 64, 3))\n",
    "\n",
    "conv = Conv2D(16, (3, 3), padding='same')\n",
    "conved_a = conv(a)\n",
    "\n",
    "# 到目前为止只有一个输入，以下可行：\n",
    "assert conv.input_shape == (None, 32, 32, 3)"
   ]
  },
  {
   "cell_type": "code",
   "execution_count": null,
   "metadata": {},
   "outputs": [],
   "source": [
    "conved_b = conv(b)\n",
    "# 现在 `.input_shape` 属性不可行，但是这样可以：\n",
    "assert conv.get_input_shape_at(0) == (None, 32, 32, 3)\n",
    "assert conv.get_input_shape_at(1) == (None, 64, 64, 3)"
   ]
  },
  {
   "cell_type": "code",
   "execution_count": null,
   "metadata": {},
   "outputs": [],
   "source": [
    "from keras.models import load_model\n",
    "\n",
    "model.save('my_model.h5')  # 创建 HDF5 文件 'my_model.h5'"
   ]
  },
  {
   "cell_type": "code",
   "execution_count": null,
   "metadata": {},
   "outputs": [],
   "source": []
  }
 ],
 "metadata": {
  "kernelspec": {
   "display_name": "Python [conda env:svd]",
   "language": "python",
   "name": "conda-env-svd-py"
  },
  "language_info": {
   "codemirror_mode": {
    "name": "ipython",
    "version": 3
   },
   "file_extension": ".py",
   "mimetype": "text/x-python",
   "name": "python",
   "nbconvert_exporter": "python",
   "pygments_lexer": "ipython3",
   "version": "3.6.12"
  }
 },
 "nbformat": 4,
 "nbformat_minor": 2
}
