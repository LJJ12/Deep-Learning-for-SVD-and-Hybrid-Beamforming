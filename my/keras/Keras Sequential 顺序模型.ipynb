{
 "cells": [
  {
   "cell_type": "markdown",
   "metadata": {},
   "source": [
    "顺序模型是多个网络层的线性堆叠。\n",
    "可以通过将网络层实例的列表传递给 Sequential 的构造器，来创建一个 Sequential 模型"
   ]
  },
  {
   "cell_type": "code",
   "execution_count": 1,
   "metadata": {},
   "outputs": [
    {
     "name": "stderr",
     "output_type": "stream",
     "text": [
      "Using TensorFlow backend.\n",
      "G:\\anaconda\\envs\\svd\\lib\\site-packages\\tensorflow\\python\\framework\\dtypes.py:516: FutureWarning: Passing (type, 1) or '1type' as a synonym of type is deprecated; in a future version of numpy, it will be understood as (type, (1,)) / '(1,)type'.\n",
      "  _np_qint8 = np.dtype([(\"qint8\", np.int8, 1)])\n",
      "G:\\anaconda\\envs\\svd\\lib\\site-packages\\tensorflow\\python\\framework\\dtypes.py:517: FutureWarning: Passing (type, 1) or '1type' as a synonym of type is deprecated; in a future version of numpy, it will be understood as (type, (1,)) / '(1,)type'.\n",
      "  _np_quint8 = np.dtype([(\"quint8\", np.uint8, 1)])\n",
      "G:\\anaconda\\envs\\svd\\lib\\site-packages\\tensorflow\\python\\framework\\dtypes.py:518: FutureWarning: Passing (type, 1) or '1type' as a synonym of type is deprecated; in a future version of numpy, it will be understood as (type, (1,)) / '(1,)type'.\n",
      "  _np_qint16 = np.dtype([(\"qint16\", np.int16, 1)])\n",
      "G:\\anaconda\\envs\\svd\\lib\\site-packages\\tensorflow\\python\\framework\\dtypes.py:519: FutureWarning: Passing (type, 1) or '1type' as a synonym of type is deprecated; in a future version of numpy, it will be understood as (type, (1,)) / '(1,)type'.\n",
      "  _np_quint16 = np.dtype([(\"quint16\", np.uint16, 1)])\n",
      "G:\\anaconda\\envs\\svd\\lib\\site-packages\\tensorflow\\python\\framework\\dtypes.py:520: FutureWarning: Passing (type, 1) or '1type' as a synonym of type is deprecated; in a future version of numpy, it will be understood as (type, (1,)) / '(1,)type'.\n",
      "  _np_qint32 = np.dtype([(\"qint32\", np.int32, 1)])\n",
      "G:\\anaconda\\envs\\svd\\lib\\site-packages\\tensorflow\\python\\framework\\dtypes.py:525: FutureWarning: Passing (type, 1) or '1type' as a synonym of type is deprecated; in a future version of numpy, it will be understood as (type, (1,)) / '(1,)type'.\n",
      "  np_resource = np.dtype([(\"resource\", np.ubyte, 1)])\n",
      "G:\\anaconda\\envs\\svd\\lib\\site-packages\\tensorboard\\compat\\tensorflow_stub\\dtypes.py:541: FutureWarning: Passing (type, 1) or '1type' as a synonym of type is deprecated; in a future version of numpy, it will be understood as (type, (1,)) / '(1,)type'.\n",
      "  _np_qint8 = np.dtype([(\"qint8\", np.int8, 1)])\n",
      "G:\\anaconda\\envs\\svd\\lib\\site-packages\\tensorboard\\compat\\tensorflow_stub\\dtypes.py:542: FutureWarning: Passing (type, 1) or '1type' as a synonym of type is deprecated; in a future version of numpy, it will be understood as (type, (1,)) / '(1,)type'.\n",
      "  _np_quint8 = np.dtype([(\"quint8\", np.uint8, 1)])\n",
      "G:\\anaconda\\envs\\svd\\lib\\site-packages\\tensorboard\\compat\\tensorflow_stub\\dtypes.py:543: FutureWarning: Passing (type, 1) or '1type' as a synonym of type is deprecated; in a future version of numpy, it will be understood as (type, (1,)) / '(1,)type'.\n",
      "  _np_qint16 = np.dtype([(\"qint16\", np.int16, 1)])\n",
      "G:\\anaconda\\envs\\svd\\lib\\site-packages\\tensorboard\\compat\\tensorflow_stub\\dtypes.py:544: FutureWarning: Passing (type, 1) or '1type' as a synonym of type is deprecated; in a future version of numpy, it will be understood as (type, (1,)) / '(1,)type'.\n",
      "  _np_quint16 = np.dtype([(\"quint16\", np.uint16, 1)])\n",
      "G:\\anaconda\\envs\\svd\\lib\\site-packages\\tensorboard\\compat\\tensorflow_stub\\dtypes.py:545: FutureWarning: Passing (type, 1) or '1type' as a synonym of type is deprecated; in a future version of numpy, it will be understood as (type, (1,)) / '(1,)type'.\n",
      "  _np_qint32 = np.dtype([(\"qint32\", np.int32, 1)])\n",
      "G:\\anaconda\\envs\\svd\\lib\\site-packages\\tensorboard\\compat\\tensorflow_stub\\dtypes.py:550: FutureWarning: Passing (type, 1) or '1type' as a synonym of type is deprecated; in a future version of numpy, it will be understood as (type, (1,)) / '(1,)type'.\n",
      "  np_resource = np.dtype([(\"resource\", np.ubyte, 1)])\n"
     ]
    }
   ],
   "source": [
    "from keras.models import Sequential\n",
    "from keras.layers import Dense,Activation"
   ]
  },
  {
   "cell_type": "code",
   "execution_count": 2,
   "metadata": {},
   "outputs": [
    {
     "name": "stdout",
     "output_type": "stream",
     "text": [
      "WARNING:tensorflow:From G:\\anaconda\\envs\\svd\\lib\\site-packages\\keras\\backend\\tensorflow_backend.py:66: The name tf.get_default_graph is deprecated. Please use tf.compat.v1.get_default_graph instead.\n",
      "\n",
      "WARNING:tensorflow:From G:\\anaconda\\envs\\svd\\lib\\site-packages\\keras\\backend\\tensorflow_backend.py:541: The name tf.placeholder is deprecated. Please use tf.compat.v1.placeholder instead.\n",
      "\n",
      "WARNING:tensorflow:From G:\\anaconda\\envs\\svd\\lib\\site-packages\\keras\\backend\\tensorflow_backend.py:4432: The name tf.random_uniform is deprecated. Please use tf.random.uniform instead.\n",
      "\n"
     ]
    }
   ],
   "source": [
    "model = Sequential([\n",
    "    Dense(32, input_shape=(784,)),\n",
    "    Activation('relu'),\n",
    "    Dense(10),\n",
    "    Activation('softmax'),\n",
    "])"
   ]
  },
  {
   "cell_type": "markdown",
   "metadata": {},
   "source": [
    "使用 .add() 方法将各层添加到模型中\n",
    "model = Sequential() \n",
    "model.add(Dense(32, input_dim=784)) \n",
    "model.add(Activation('relu')) "
   ]
  },
  {
   "cell_type": "markdown",
   "metadata": {},
   "source": [
    "### 指定数据数据的尺寸\n",
    "模型需要知道它所期望的输入的尺寸。出于这个原因，顺序模型中的第一层（且只有第一层，因为下面的层可以自动地推断尺寸）需要接收关于其输入尺寸的信息有几种方法来做到这一点："
   ]
  },
  {
   "cell_type": "markdown",
   "metadata": {},
   "source": [
    "1. 传递一个 input_shape 参数给第一层。它是一个表示尺寸的元组 (一个由整数或 None 组成的元组，其中 None 表示可能为任何正整数)。在 input_shape 中不包含数据的 batch 大小。\n",
    "2. 某些 2D 层，例如 Dense，支持通过参数 input_dim 指定输入尺寸，某些 3D 时序层支持 input_dim 和 input_length 参数。\n",
    "3. 如果需要为输入指定一个固定的 batch 大小（这对 stateful RNNs 很有用），可以传递一个 batch_size 参数给一个层。如果同时将 batch_size=32 和 input_shape=(6, 8) 传递给一个层，那么每一批输入的尺寸就为 (32，6，8)。"
   ]
  },
  {
   "cell_type": "code",
   "execution_count": 3,
   "metadata": {},
   "outputs": [],
   "source": [
    "# 相互等价\n",
    "model = Sequential()\n",
    "model.add(Dense(32, input_shape=(784,)))\n",
    "\n",
    "model = Sequential()\n",
    "model.add(Dense(32, input_dim=784))"
   ]
  },
  {
   "cell_type": "markdown",
   "metadata": {},
   "source": [
    "### 模型编译"
   ]
  },
  {
   "cell_type": "markdown",
   "metadata": {},
   "source": [
    "在训练模型之前，需要配置学习过程，这是通过 compile 方法完成的。它接收三个参数:\n",
    "1. 优化器 optimizer。它可以是现有优化器的字符串标识符，如 rmsprop 或 adagrad，也可以是 Optimizer 类的实例。详见：optimizers。\n",
    "2. 损失函数 loss，模型试图最小化的目标函数。它可以是现有损失函数的字符串标识符，如 categorical_crossentropy 或 mse，也可以是一个目标函数。详见：losses。\n",
    "3. 评估标准 metrics。对于任何分类问题，你都希望将其设置为 metrics = ['accuracy']。评估标准可以是现有的标准的字符串标识符，也可以是自定义的评估标准函数。详见: metrics。"
   ]
  },
  {
   "cell_type": "code",
   "execution_count": 4,
   "metadata": {},
   "outputs": [
    {
     "name": "stdout",
     "output_type": "stream",
     "text": [
      "WARNING:tensorflow:From G:\\anaconda\\envs\\svd\\lib\\site-packages\\keras\\optimizers.py:793: The name tf.train.Optimizer is deprecated. Please use tf.compat.v1.train.Optimizer instead.\n",
      "\n",
      "WARNING:tensorflow:From G:\\anaconda\\envs\\svd\\lib\\site-packages\\keras\\backend\\tensorflow_backend.py:3576: The name tf.log is deprecated. Please use tf.math.log instead.\n",
      "\n",
      "WARNING:tensorflow:From G:\\anaconda\\envs\\svd\\lib\\site-packages\\tensorflow\\python\\ops\\nn_impl.py:180: add_dispatch_support.<locals>.wrapper (from tensorflow.python.ops.array_ops) is deprecated and will be removed in a future version.\n",
      "Instructions for updating:\n",
      "Use tf.where in 2.0, which has the same broadcast rule as np.where\n"
     ]
    }
   ],
   "source": [
    "# 多分类问题\n",
    "model.compile(optimizer='rmsprop',\n",
    "              loss='categorical_crossentropy',\n",
    "              metrics=['accuracy'])\n",
    "\n",
    "# 二分类问题\n",
    "model.compile(optimizer='rmsprop',\n",
    "              loss='binary_crossentropy',\n",
    "              metrics=['accuracy'])\n",
    "\n",
    "# 均方误差回归问题\n",
    "model.compile(optimizer='rmsprop',\n",
    "              loss='mse')"
   ]
  },
  {
   "cell_type": "code",
   "execution_count": null,
   "metadata": {},
   "outputs": [],
   "source": [
    "# 自定义评估标准函数\n",
    "import keras.backend as K\n",
    "\n",
    "def mean_pred(y_true, y_pred):\n",
    "    return K.mean(y_pred)\n",
    "\n",
    "model.compile(optimizer='rmsprop',\n",
    "              loss='binary_crossentropy',\n",
    "              metrics=['accuracy', mean_pred])"
   ]
  },
  {
   "cell_type": "markdown",
   "metadata": {},
   "source": [
    "### 模型训练"
   ]
  },
  {
   "cell_type": "markdown",
   "metadata": {},
   "source": [
    "Keras 模型在输入数据和标签的 Numpy 矩阵上进行训练。为了训练一个模型，通常会使用 fit 函数"
   ]
  },
  {
   "cell_type": "code",
   "execution_count": 22,
   "metadata": {},
   "outputs": [
    {
     "name": "stdout",
     "output_type": "stream",
     "text": [
      "[[0.81114717 0.54430669 0.92214077 ... 0.58463751 0.04591163 0.80275721]\n",
      " [0.78632847 0.82752616 0.40176934 ... 0.87243341 0.23562903 0.12965371]\n",
      " [0.22739238 0.65281481 0.75487748 ... 0.57653252 0.03560155 0.45524497]\n",
      " ...\n",
      " [0.55479198 0.11386484 0.83163382 ... 0.82650023 0.89804265 0.77701583]\n",
      " [0.88937889 0.98513487 0.71108787 ... 0.65311702 0.7611169  0.58549989]\n",
      " [0.60986389 0.67876253 0.09262888 ... 0.76559535 0.90793814 0.77895379]]\n"
     ]
    }
   ],
   "source": [
    "# 对于具有 2 个类的单输入模型（二进制分类）\n",
    "model = Sequential()\n",
    "model.add(Dense(32, activation='relu', input_dim=100))\n",
    "model.add(Dense(1, activation='sigmoid'))\n",
    "model.compile(optimizer='rmsprop',\n",
    "              loss='binary_crossentropy',\n",
    "              metrics=['accuracy'])\n",
    "\n",
    "# 生成虚拟数据\n",
    "import numpy as np\n",
    "# 生成100行50列的随机浮点数，浮点数范围：（0，1）\n",
    "data = np.random.random((100000,100))\n",
    "print(data)\n",
    "# 1000行一列的随机整数，从[0,2)中随机。\n",
    "labels = np.random.randint(2,size=(100000,1))\n",
    "# print(labels)"
   ]
  },
  {
   "cell_type": "code",
   "execution_count": 24,
   "metadata": {},
   "outputs": [
    {
     "name": "stdout",
     "output_type": "stream",
     "text": [
      "Epoch 1/10\n",
      "100000/100000 [==============================] - 1s 12us/step - loss: 0.7146 - acc: 0.5016\n",
      "Epoch 2/10\n",
      "100000/100000 [==============================] - 1s 12us/step - loss: 0.7174 - acc: 0.5024\n",
      "Epoch 3/10\n",
      "100000/100000 [==============================] - 1s 12us/step - loss: 0.7196 - acc: 0.5032\n",
      "Epoch 4/10\n",
      "100000/100000 [==============================] - 1s 12us/step - loss: 0.7225 - acc: 0.5048\n",
      "Epoch 5/10\n",
      "100000/100000 [==============================] - 1s 12us/step - loss: 0.7245 - acc: 0.5051\n",
      "Epoch 6/10\n",
      "100000/100000 [==============================] - 1s 12us/step - loss: 0.7274 - acc: 0.5030\n",
      "Epoch 7/10\n",
      "100000/100000 [==============================] - 1s 12us/step - loss: 0.7325 - acc: 0.5017\n",
      "Epoch 8/10\n",
      "100000/100000 [==============================] - 1s 12us/step - loss: 0.7353 - acc: 0.5023\n",
      "Epoch 9/10\n",
      "100000/100000 [==============================] - 1s 12us/step - loss: 0.7376 - acc: 0.5016\n",
      "Epoch 10/10\n",
      "100000/100000 [==============================] - 1s 12us/step - loss: 0.7415 - acc: 0.5034\n"
     ]
    },
    {
     "data": {
      "text/plain": [
       "<keras.callbacks.History at 0x177f92426d8>"
      ]
     },
     "execution_count": 24,
     "metadata": {},
     "output_type": "execute_result"
    }
   ],
   "source": [
    "# 训练模型，以 32 个样本为一个 batch 进行迭代\n",
    "model.fit(data, labels, epochs=10, batch_size=64)"
   ]
  },
  {
   "cell_type": "code",
   "execution_count": 27,
   "metadata": {},
   "outputs": [
    {
     "name": "stdout",
     "output_type": "stream",
     "text": [
      "[[0.27500166 0.37741841 0.51323292 ... 0.84086741 0.7319264  0.34362979]\n",
      " [0.01480752 0.61368608 0.9591014  ... 0.07518512 0.91525397 0.89685458]\n",
      " [0.7973043  0.70810389 0.02301502 ... 0.1609338  0.85142117 0.85356621]\n",
      " ...\n",
      " [0.41559723 0.66301536 0.3606279  ... 0.79984085 0.10532354 0.99618585]\n",
      " [0.63641397 0.91118035 0.18729435 ... 0.79570787 0.55322488 0.98201734]\n",
      " [0.96901101 0.83375116 0.60700095 ... 0.99142752 0.48127263 0.0889728 ]]\n"
     ]
    }
   ],
   "source": [
    "# 对于具有 10 个类的单输入模型（多分类分类）：\n",
    "model = Sequential()\n",
    "model.add(Dense(32, activation='relu', input_dim=100))\n",
    "model.add(Dense(10, activation='softmax'))\n",
    "model.compile(optimizer='rmsprop',\n",
    "              loss='categorical_crossentropy',\n",
    "              metrics=['accuracy'])\n",
    "# 生成虚拟数据\n",
    "import numpy as np\n",
    "# 生成100行50列的随机浮点数，浮点数范围：（0，1）\n",
    "data = np.random.random((100000,100))\n",
    "print(data)\n",
    "# 1000行一列的随机整数，从[0,2)中随机。\n",
    "labels = np.random.randint(2,size=(100000,1))\n",
    "# print(labels)"
   ]
  },
  {
   "cell_type": "code",
   "execution_count": 29,
   "metadata": {},
   "outputs": [
    {
     "name": "stdout",
     "output_type": "stream",
     "text": [
      "Epoch 1/10\n",
      "100000/100000 [==============================] - 3s 32us/step - loss: 0.7025 - acc: 0.4999\n",
      "Epoch 2/10\n",
      "100000/100000 [==============================] - 2s 23us/step - loss: 0.6943 - acc: 0.5046\n",
      "Epoch 3/10\n",
      "100000/100000 [==============================] - 2s 23us/step - loss: 0.6936 - acc: 0.5037\n",
      "Epoch 4/10\n",
      "100000/100000 [==============================] - 2s 22us/step - loss: 0.6933 - acc: 0.5055\n",
      "Epoch 5/10\n",
      "100000/100000 [==============================] - 2s 23us/step - loss: 0.6933 - acc: 0.5041\n",
      "Epoch 6/10\n",
      "100000/100000 [==============================] - 2s 24us/step - loss: 0.6931 - acc: 0.5062\n",
      "Epoch 7/10\n",
      "100000/100000 [==============================] - 4s 36us/step - loss: 0.6929 - acc: 0.5081\n",
      "Epoch 8/10\n",
      "100000/100000 [==============================] - 3s 28us/step - loss: 0.6928 - acc: 0.5110\n",
      "Epoch 9/10\n",
      "100000/100000 [==============================] - 3s 26us/step - loss: 0.6926 - acc: 0.5123\n",
      "Epoch 10/10\n",
      "100000/100000 [==============================] - 3s 29us/step - loss: 0.6926 - acc: 0.5131\n"
     ]
    },
    {
     "data": {
      "text/plain": [
       "<keras.callbacks.History at 0x177e47d9470>"
      ]
     },
     "execution_count": 29,
     "metadata": {},
     "output_type": "execute_result"
    }
   ],
   "source": [
    "import keras\n",
    "#  将标签转换为分类的 one-hot 编码\n",
    "one_hot_labels = keras.utils.to_categorical(labels, num_classes=10)\n",
    "\n",
    "# 训练模型，以 32 个样本为一个 batch 进行迭代\n",
    "model.fit(data, one_hot_labels, epochs=10, batch_size=32)"
   ]
  },
  {
   "cell_type": "markdown",
   "metadata": {},
   "source": [
    "### 基于多层感知器 (MLP) 的 softmax 多分类："
   ]
  },
  {
   "cell_type": "code",
   "execution_count": 30,
   "metadata": {},
   "outputs": [],
   "source": [
    "import keras\n",
    "from keras.models import Sequential\n",
    "from keras.layers import Dense, Dropout, Activation\n",
    "from keras.optimizers import SGD"
   ]
  },
  {
   "cell_type": "code",
   "execution_count": 41,
   "metadata": {},
   "outputs": [],
   "source": [
    "#  生成虚拟数据\n",
    "import numpy as np\n",
    "# 1000行 20列\n",
    "x_train = np.random.random((10000, 20))\n",
    "# [0，10) 整数\n",
    "y_train = keras.utils.to_categorical(np.random.randint(10, size=(10000, 1)), num_classes=10)\n",
    "x_test = np.random.random((1000, 20))\n",
    "y_test = keras.utils.to_categorical(np.random.randint(10, size=(1000, 1)), num_classes=10)\n",
    "\n",
    "model = Sequential()"
   ]
  },
  {
   "cell_type": "markdown",
   "metadata": {},
   "source": [
    "1. Dense(64) 是一个具有 64 个隐藏神经元的全连接层。\n",
    "2. 在第一层必须指定所期望的输入数据尺寸：\n",
    "3. 在这里，是一个 20 维的向量。"
   ]
  },
  {
   "cell_type": "code",
   "execution_count": 45,
   "metadata": {},
   "outputs": [],
   "source": [
    "model.add(Dense(64, activation='relu', input_dim=20))\n",
    "model.add(Dropout(0.5))\n",
    "model.add(Dense(64, activation='relu'))\n",
    "model.add(Dropout(0.5))\n",
    "model.add(Dense(10, activation='softmax'))"
   ]
  },
  {
   "cell_type": "code",
   "execution_count": 46,
   "metadata": {},
   "outputs": [],
   "source": [
    "#  设定优化器参数\n",
    "sgd = SGD(lr=0.01, decay=1e-6, momentum=0.9, nesterov=True)"
   ]
  },
  {
   "cell_type": "code",
   "execution_count": 47,
   "metadata": {},
   "outputs": [],
   "source": [
    "# 配置编译器参数\n",
    "model.compile(loss='categorical_crossentropy',\n",
    "              optimizer=sgd,\n",
    "              metrics=['accuracy'])"
   ]
  },
  {
   "cell_type": "code",
   "execution_count": 48,
   "metadata": {},
   "outputs": [
    {
     "name": "stdout",
     "output_type": "stream",
     "text": [
      "Epoch 1/20\n",
      "10000/10000 [==============================] - 1s 78us/step - loss: 2.3042 - acc: 0.0976\n",
      "Epoch 2/20\n",
      "10000/10000 [==============================] - 0s 24us/step - loss: 2.3032 - acc: 0.0969\n",
      "Epoch 3/20\n",
      "10000/10000 [==============================] - 0s 23us/step - loss: 2.3027 - acc: 0.1089\n",
      "Epoch 4/20\n",
      "10000/10000 [==============================] - 0s 24us/step - loss: 2.3026 - acc: 0.1024\n",
      "Epoch 5/20\n",
      "10000/10000 [==============================] - 0s 23us/step - loss: 2.3034 - acc: 0.1009\n",
      "Epoch 6/20\n",
      "10000/10000 [==============================] - 0s 23us/step - loss: 2.3030 - acc: 0.1017\n",
      "Epoch 7/20\n",
      "10000/10000 [==============================] - 0s 23us/step - loss: 2.3031 - acc: 0.0991\n",
      "Epoch 8/20\n",
      "10000/10000 [==============================] - 0s 24us/step - loss: 2.3032 - acc: 0.1005\n",
      "Epoch 9/20\n",
      "10000/10000 [==============================] - 0s 24us/step - loss: 2.3026 - acc: 0.0960\n",
      "Epoch 10/20\n",
      "10000/10000 [==============================] - 0s 24us/step - loss: 2.3025 - acc: 0.1028\n",
      "Epoch 11/20\n",
      "10000/10000 [==============================] - 0s 26us/step - loss: 2.3029 - acc: 0.0999\n",
      "Epoch 12/20\n",
      "10000/10000 [==============================] - 0s 24us/step - loss: 2.3027 - acc: 0.0978\n",
      "Epoch 13/20\n",
      "10000/10000 [==============================] - 0s 23us/step - loss: 2.3027 - acc: 0.1045\n",
      "Epoch 14/20\n",
      "10000/10000 [==============================] - 0s 24us/step - loss: 2.3027 - acc: 0.1044\n",
      "Epoch 15/20\n",
      "10000/10000 [==============================] - 0s 23us/step - loss: 2.3026 - acc: 0.1010\n",
      "Epoch 16/20\n",
      "10000/10000 [==============================] - 0s 24us/step - loss: 2.3027 - acc: 0.1013\n",
      "Epoch 17/20\n",
      "10000/10000 [==============================] - 0s 24us/step - loss: 2.3026 - acc: 0.0979\n",
      "Epoch 18/20\n",
      "10000/10000 [==============================] - 0s 23us/step - loss: 2.3028 - acc: 0.1005\n",
      "Epoch 19/20\n",
      "10000/10000 [==============================] - 0s 23us/step - loss: 2.3026 - acc: 0.0988\n",
      "Epoch 20/20\n",
      "10000/10000 [==============================] - 0s 23us/step - loss: 2.3027 - acc: 0.1040\n"
     ]
    },
    {
     "data": {
      "text/plain": [
       "<keras.callbacks.History at 0x177f8f481d0>"
      ]
     },
     "execution_count": 48,
     "metadata": {},
     "output_type": "execute_result"
    }
   ],
   "source": [
    "# 训练\n",
    "model.fit(x_train, y_train,\n",
    "          epochs=20,\n",
    "          batch_size=128)"
   ]
  },
  {
   "cell_type": "code",
   "execution_count": 49,
   "metadata": {},
   "outputs": [
    {
     "name": "stdout",
     "output_type": "stream",
     "text": [
      "1000/1000 [==============================] - 0s 173us/step\n"
     ]
    }
   ],
   "source": [
    "#  评估\n",
    "score = model.evaluate(x_test, y_test, batch_size=128)"
   ]
  },
  {
   "cell_type": "code",
   "execution_count": null,
   "metadata": {},
   "outputs": [],
   "source": []
  }
 ],
 "metadata": {
  "kernelspec": {
   "display_name": "Python [conda env:svd]",
   "language": "python",
   "name": "conda-env-svd-py"
  },
  "language_info": {
   "codemirror_mode": {
    "name": "ipython",
    "version": 3
   },
   "file_extension": ".py",
   "mimetype": "text/x-python",
   "name": "python",
   "nbconvert_exporter": "python",
   "pygments_lexer": "ipython3",
   "version": "3.6.12"
  }
 },
 "nbformat": 4,
 "nbformat_minor": 2
}
