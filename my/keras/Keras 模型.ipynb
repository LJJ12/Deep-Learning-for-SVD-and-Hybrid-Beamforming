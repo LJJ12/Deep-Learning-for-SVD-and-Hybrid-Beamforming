{
 "cells": [
  {
   "cell_type": "markdown",
   "metadata": {},
   "source": [
    "### 关于 Keras 模型\n",
    "在 Keras 中有两类主要的模型：Sequential 顺序模型 和 使用函数式 API 的 Model 类模型。\n",
    "\n",
    "这些模型有许多共同的方法和属性：\n",
    "\n",
    "1. model.layers 是包含模型网络层的展平列表。\n",
    "2. model.inputs 是模型输入张量的列表。\n",
    "3. model.outputs 是模型输出张量的列表。\n",
    "4. model.summary() 打印出模型概述信息。 它是 utils.print_summary 的简捷调用。\n",
    "5. model.get_config() 返回包含模型配置信息的字典。通过以下代码，就可以根据这些配置信息重新实例化模型："
   ]
  },
  {
   "cell_type": "code",
   "execution_count": null,
   "metadata": {},
   "outputs": [],
   "source": []
  }
 ],
 "metadata": {
  "kernelspec": {
   "display_name": "Python [conda env:svd]",
   "language": "python",
   "name": "conda-env-svd-py"
  },
  "language_info": {
   "codemirror_mode": {
    "name": "ipython",
    "version": 3
   },
   "file_extension": ".py",
   "mimetype": "text/x-python",
   "name": "python",
   "nbconvert_exporter": "python",
   "pygments_lexer": "ipython3",
   "version": "3.6.12"
  }
 },
 "nbformat": 4,
 "nbformat_minor": 2
}
